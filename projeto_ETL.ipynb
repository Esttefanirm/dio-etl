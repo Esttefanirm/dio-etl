{
 "cells": [
  {
   "cell_type": "code",
   "execution_count": 93,
   "metadata": {},
   "outputs": [],
   "source": [
    "#import das biblioteca\n",
    "import pandas as pd\n",
    "import requests\n",
    "import json"
   ]
  },
  {
   "cell_type": "code",
   "execution_count": 94,
   "metadata": {},
   "outputs": [],
   "source": [
    "#definição url API\n",
    "sdw2023_api_url = 'https://sdw-2023-prd.up.railway.app'\n"
   ]
  },
  {
   "cell_type": "code",
   "execution_count": 95,
   "metadata": {},
   "outputs": [],
   "source": [
    "#lendo arquivo com IDs e importando os dados\n",
    "df = pd.read_csv('santander_example.csv')\n",
    "user_ids = df['UserID'].tolist()\n",
    "def get_user(id):\n",
    "  response = requests.get(f'{sdw2023_api_url}/users/{id}')\n",
    "  return response.json() if response.status_code == 200 else None\n",
    "\n",
    "users = [user for id in user_ids if (user := get_user(id)) is not None]"
   ]
  },
  {
   "cell_type": "code",
   "execution_count": 96,
   "metadata": {},
   "outputs": [],
   "source": [
    "#cria classes a partir dos dados\n",
    "\n",
    "class Account:\n",
    "    def __init__(self, id, number, agency, balance, limit):\n",
    "        self.id = id\n",
    "        self.number = number\n",
    "        self.agency = agency\n",
    "        self.balance = balance\n",
    "        self.limit = limit\n",
    "\n",
    "class Card:\n",
    "    def __init__(self, id, number, limit):\n",
    "        self.id = id\n",
    "        self.number = number\n",
    "        self.limit = limit\n",
    "\n",
    "class Person:\n",
    "    def __init__(self, id, name, account, card):\n",
    "        self.id = id\n",
    "        self.name = name\n",
    "        self.account = account\n",
    "        self.card = card"
   ]
  },
  {
   "cell_type": "code",
   "execution_count": 97,
   "metadata": {},
   "outputs": [],
   "source": [
    "#cria uma lista de objetos com os usuarios retiradas da lista de IDs\n",
    "people = []\n",
    "for person_data in users:\n",
    "    account_data = person_data['account']\n",
    "    card_data = person_data['card']\n",
    "    \n",
    "    account = Account(**account_data)\n",
    "    card = Card(**card_data)\n",
    "    \n",
    "    person = Person(id=person_data['id'], name=person_data['name'], account=account, card=card)\n",
    "    people.append(person)"
   ]
  },
  {
   "cell_type": "code",
   "execution_count": 98,
   "metadata": {},
   "outputs": [],
   "source": [
    "#inicializa listas para transformar os dados em dataframe\n",
    "ids = []\n",
    "names = []\n",
    "account_ids = []\n",
    "account_numbers = []\n",
    "account_agencies = []\n",
    "account_balances = []\n",
    "account_limits = []\n",
    "card_ids = []\n",
    "card_numbers = []\n",
    "card_limits = []"
   ]
  },
  {
   "cell_type": "code",
   "execution_count": 99,
   "metadata": {},
   "outputs": [],
   "source": [
    "#popula as listas com os dados\n",
    "for person in people:\n",
    "    ids.append(person.id)\n",
    "    names.append(person.name)\n",
    "    account_ids.append(person.account.id)\n",
    "    account_numbers.append(person.account.number)\n",
    "    account_agencies.append(person.account.agency)\n",
    "    account_balances.append(person.account.balance)\n",
    "    account_limits.append(person.account.limit)\n",
    "    card_ids.append(person.card.id)\n",
    "    card_numbers.append(person.card.number)\n",
    "    card_limits.append(person.card.limit)"
   ]
  },
  {
   "cell_type": "code",
   "execution_count": 100,
   "metadata": {},
   "outputs": [],
   "source": [
    "#transforma os dados no formato dicionario\n",
    "data = {\n",
    "    'ID': ids,\n",
    "    'Name': names,\n",
    "    'Account ID': account_ids,\n",
    "    'Account Number': account_numbers,\n",
    "    'Account Agency': account_agencies,\n",
    "    'Account Balance': account_balances,\n",
    "    'Account Limit': account_limits,\n",
    "    'Card ID': card_ids,\n",
    "    'Card Number': card_numbers,\n",
    "    'Card Limit': card_limits\n",
    "}"
   ]
  },
  {
   "cell_type": "code",
   "execution_count": 101,
   "metadata": {},
   "outputs": [],
   "source": [
    "#cria o dataframe de output e exporta\n",
    "df = pd.DataFrame(data)\n",
    "df.to_csv('data.csv', index=False)"
   ]
  }
 ],
 "metadata": {
  "kernelspec": {
   "display_name": "Python 3",
   "language": "python",
   "name": "python3"
  },
  "language_info": {
   "codemirror_mode": {
    "name": "ipython",
    "version": 3
   },
   "file_extension": ".py",
   "mimetype": "text/x-python",
   "name": "python",
   "nbconvert_exporter": "python",
   "pygments_lexer": "ipython3",
   "version": "3.11.6"
  },
  "orig_nbformat": 4
 },
 "nbformat": 4,
 "nbformat_minor": 2
}
